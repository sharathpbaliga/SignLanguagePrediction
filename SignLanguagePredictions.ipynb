{
 "cells": [
  {
   "cell_type": "code",
   "execution_count": 1,
   "metadata": {},
   "outputs": [
    {
     "name": "stderr",
     "output_type": "stream",
     "text": [
      "C:\\ProgramData\\Anaconda3\\lib\\site-packages\\ipykernel\\parentpoller.py:116: UserWarning: Parent poll failed.  If the frontend dies,\n",
      "                the kernel may be left running.  Please let us know\n",
      "                about your system (bitness, Python, etc.) at\n",
      "                ipython-dev@scipy.org\n",
      "  ipython-dev@scipy.org\"\"\")\n",
      "Using TensorFlow backend.\n"
     ]
    }
   ],
   "source": [
    "from keras.models import Sequential\n",
    "from keras.layers import Dense,Conv2D,MaxPool2D,Flatten,Dropout\n",
    "import pandas as pd\n",
    "import matplotlib.pyplot as plt\n",
    "%matplotlib inline\n",
    "from keras.utils.np_utils import to_categorical\n",
    "from sklearn.model_selection import train_test_split"
   ]
  },
  {
   "cell_type": "code",
   "execution_count": 2,
   "metadata": {},
   "outputs": [],
   "source": [
    "data = pd.read_csv('../../SignLanguage/sign_mnist_train/sign_mnist_train.csv')\n",
    "testData = pd.read_csv('../../SignLanguage/sign_mnist_test/sign_mnist_test.csv')"
   ]
  },
  {
   "cell_type": "code",
   "execution_count": 3,
   "metadata": {},
   "outputs": [
    {
     "data": {
      "text/plain": [
       "(7172, 785)"
      ]
     },
     "execution_count": 3,
     "metadata": {},
     "output_type": "execute_result"
    }
   ],
   "source": [
    "data.shape\n",
    "testData.shape"
   ]
  },
  {
   "cell_type": "code",
   "execution_count": 4,
   "metadata": {},
   "outputs": [],
   "source": [
    "Features = data.drop('label', axis=1)\n",
    "Label = data.label\n",
    "Feature_test = testData.drop('label', axis=1)\n",
    "Label_test = testData.label"
   ]
  },
  {
   "cell_type": "code",
   "execution_count": 5,
   "metadata": {},
   "outputs": [
    {
     "name": "stdout",
     "output_type": "stream",
     "text": [
      "(27455, 784)\n",
      "(27455,)\n",
      "(7172, 784)\n",
      "(7172,)\n"
     ]
    }
   ],
   "source": [
    "print(Features.shape)\n",
    "print(Label.shape)\n",
    "print(Feature_test.shape)\n",
    "print(Label_test.shape)"
   ]
  },
  {
   "cell_type": "code",
   "execution_count": 6,
   "metadata": {},
   "outputs": [],
   "source": [
    "#X_train,X_test,y_train,y_test = train_test_split(Features,Label,test_size=0.33,random_state=42)\n",
    "#y_train.max()\n",
    "X_train = Features\n",
    "X_test = Feature_test\n",
    "y_train = Label\n",
    "y_test = Label_test"
   ]
  },
  {
   "cell_type": "code",
   "execution_count": 7,
   "metadata": {},
   "outputs": [],
   "source": [
    "X_train_scaled = X_train/X_train.max()\n",
    "X_test_scaled = X_test/X_train.max()\n",
    "y_cat_train = to_categorical(y_train,26)\n",
    "y_cat_test = to_categorical(y_test,26)"
   ]
  },
  {
   "cell_type": "code",
   "execution_count": 8,
   "metadata": {},
   "outputs": [],
   "source": [
    "from keras.models import Sequential\n",
    "from keras.layers import Dense,Conv2D,Activation,MaxPool2D,Dropout"
   ]
  },
  {
   "cell_type": "code",
   "execution_count": 9,
   "metadata": {},
   "outputs": [
    {
     "data": {
      "image/png": "[encoded data removed]",
      "text/plain": [
       "<Figure size 432x288 with 1 Axes>"
      ]
     },
     "metadata": {
      "needs_background": "light"
     },
     "output_type": "display_data"
    }
   ],
   "source": [
    "X_train_scaled.shape\n",
    "#X_train_scaled = X_train_scaled.reshape(18394,28,28)\n",
    "X_train_scaled_input = X_train_scaled.values\n",
    "X_train_scaled_input = X_train_scaled_input.reshape(27455,28,28)\n",
    "plt.imshow(X_train_scaled_input[0],cmap='gray_r')\n",
    "X_train_scaled_input = X_train_scaled_input.reshape(27455,28,28,1)\n",
    "X_test_scaled_input = X_test_scaled.values\n",
    "X_test_scaled_input = X_test_scaled_input.reshape(7172,28,28,1)"
   ]
  },
  {
   "cell_type": "code",
   "execution_count": 121,
   "metadata": {},
   "outputs": [],
   "source": [
    "model = Sequential()\n",
    "model.add(Conv2D(filters=32,kernel_size=(3,3),input_shape=(28,28,1),activation='relu'))\n",
    "model.add(MaxPool2D(pool_size=(2,2)))\n",
    "model.add(Conv2D(filters=32,kernel_size=(3,3),activation='relu'))\n",
    "model.add(MaxPool2D(pool_size=(2,2)))\n",
    "model.add(Flatten())\n",
    "model.add(Dense(256,activation='relu'))\n",
    "model.add(Dropout(0.5))\n",
    "model.add(Dense(100,activation='relu'))\n",
    "model.add(Dropout(0.3))\n",
    "model.add(Dense(26,activation='softmax'))\n",
    "\n",
    "model.compile(loss='categorical_crossentropy',\n",
    "             optimizer='rmsprop',\n",
    "             metrics=['accuracy'])"
   ]
  },
  {
   "cell_type": "code",
   "execution_count": 122,
   "metadata": {},
   "outputs": [
    {
     "name": "stdout",
     "output_type": "stream",
     "text": [
      "Epoch 1/5\n",
      "27455/27455 [==============================] - 80s 3ms/step - loss: 1.2281 - acc: 0.6115\n",
      "Epoch 2/5\n",
      "27455/27455 [==============================] - 48s 2ms/step - loss: 0.1993 - acc: 0.9337\n",
      "Epoch 3/5\n",
      "27455/27455 [==============================] - 50s 2ms/step - loss: 0.0967 - acc: 0.9690\n",
      "Epoch 4/5\n",
      "27455/27455 [==============================] - 55s 2ms/step - loss: 0.0594 - acc: 0.9805: 0s - loss: 0.0592 - a\n",
      "Epoch 5/5\n",
      "27455/27455 [==============================] - 50s 2ms/step - loss: 0.0475 - acc: 0.9858: 0s - loss: 0.0476\n"
     ]
    },
    {
     "data": {
      "text/plain": [
       "<keras.callbacks.History at 0x1e2124412e8>"
      ]
     },
     "execution_count": 122,
     "metadata": {},
     "output_type": "execute_result"
    }
   ],
   "source": [
    "model.fit(X_train_scaled_input,y_cat_train,epochs=5,batch_size=15)"
   ]
  },
  {
   "cell_type": "code",
   "execution_count": 123,
   "metadata": {},
   "outputs": [
    {
     "name": "stdout",
     "output_type": "stream",
     "text": [
      "7172/7172 [==============================] - 5s 718us/step\n"
     ]
    },
    {
     "data": {
      "text/plain": [
       "[0.36322107298084727, 0.9411600669269381]"
      ]
     },
     "execution_count": 123,
     "metadata": {},
     "output_type": "execute_result"
    }
   ],
   "source": [
    "model.evaluate(X_test_scaled_input,y_cat_test)"
   ]
  },
  {
   "cell_type": "code",
   "execution_count": 124,
   "metadata": {},
   "outputs": [],
   "source": [
    "predictions = model.predict_classes(X_test_scaled_input)"
   ]
  },
  {
   "cell_type": "code",
   "execution_count": 125,
   "metadata": {},
   "outputs": [
    {
     "name": "stdout",
     "output_type": "stream",
     "text": [
      "             precision    recall  f1-score   support\n",
      "\n",
      "          0       0.89      1.00      0.94       331\n",
      "          1       1.00      0.93      0.96       432\n",
      "          2       1.00      1.00      1.00       310\n",
      "          3       0.92      1.00      0.96       245\n",
      "          4       0.94      0.94      0.94       498\n",
      "          5       1.00      1.00      1.00       247\n",
      "          6       0.88      0.94      0.91       348\n",
      "          7       0.95      0.92      0.93       436\n",
      "          8       0.92      0.85      0.89       288\n",
      "         10       0.99      1.00      0.99       331\n",
      "         11       1.00      1.00      1.00       209\n",
      "         12       0.95      0.85      0.90       394\n",
      "         13       1.00      0.65      0.78       291\n",
      "         14       1.00      1.00      1.00       246\n",
      "         15       1.00      1.00      1.00       347\n",
      "         16       0.96      1.00      0.98       164\n",
      "         17       1.00      0.85      0.92       144\n",
      "         18       0.81      0.97      0.88       246\n",
      "         19       0.99      0.88      0.93       248\n",
      "         20       0.85      0.92      0.88       266\n",
      "         21       0.93      1.00      0.96       346\n",
      "         22       0.89      1.00      0.94       206\n",
      "         23       0.94      1.00      0.97       267\n",
      "         24       0.88      0.94      0.91       332\n",
      "\n",
      "avg / total       0.94      0.94      0.94      7172\n",
      "\n"
     ]
    }
   ],
   "source": [
    "from sklearn.metrics import classification_report\n",
    "print(classification_report(y_test,predictions))"
   ]
  },
  {
   "cell_type": "code",
   "execution_count": 126,
   "metadata": {},
   "outputs": [],
   "source": [
    "model.save('../Models/signLanguagePredictor.h5')"
   ]
  },
  {
   "cell_type": "code",
   "execution_count": null,
   "metadata": {},
   "outputs": [],
   "source": []
  }
 ],
 "metadata": {
  "kernelspec": {
   "display_name": "Python 3",
   "language": "python",
   "name": "python3"
  },
  "language_info": {
   "codemirror_mode": {
    "name": "ipython",
    "version": 3
   },
   "file_extension": ".py",
   "mimetype": "text/x-python",
   "name": "python",
   "nbconvert_exporter": "python",
   "pygments_lexer": "ipython3",
   "version": "3.7.0"
  }
 },
 "nbformat": 4,
 "nbformat_minor": 2
}
